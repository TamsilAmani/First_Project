{
 "cells": [
  {
   "cell_type": "code",
   "execution_count": null,
   "metadata": {},
   "outputs": [],
   "source": [
    "FILE = 'INPUT.txt'"
   ]
  },
  {
   "cell_type": "code",
   "execution_count": null,
   "metadata": {},
   "outputs": [],
   "source": [
    "### Change attributes as per question given\n",
    "class OBSERVATIONS:\n",
    "    def __init__(self,obsNo,outlook,temp,humidity,wind,playTennis=\"NO\"):\n",
    "        self.obsNo = obsNo\n",
    "        self.OUTLOOK = outlook\n",
    "        self.TEMP = temp\n",
    "        self.HUMIDITY = humidity\n",
    "        self.WIND = wind\n",
    "        self.PLAYTENNIS = playTennis"
   ]
  },
  {
   "cell_type": "code",
   "execution_count": null,
   "metadata": {},
   "outputs": [],
   "source": [
    "## READING DATA\n",
    "input_data = open(FILE)\n",
    "data = input_data.read().splitlines()\n",
    "print(\"----- DATA FROM INPUT FILE-----\")\n",
    "data\n"
   ]
  },
  {
   "cell_type": "code",
   "execution_count": null,
   "metadata": {},
   "outputs": [],
   "source": [
    "### Loading Data and Storing Observations\n",
    "\n",
    "No_of_Ob = int(data[0])\n",
    "No_of_Attr = int(data[1])+1\n",
    "\n",
    "listOfTitles = []\n",
    "listOfObs = []\n",
    "\n",
    "j = 0\n",
    "for i in data[2].split(\" \"):\n",
    "    if j==0 or j==5:\n",
    "        j=j+1\n",
    "        continue\n",
    "    listOfTitles.append(i)\n",
    "    j=j+1\n",
    "    \n",
    "\n",
    "print(\"Attributes observed: \\n\\n\",listOfTitles)\n",
    "\n",
    "index = 3\n",
    "\n",
    "while index < len(data)-1:  ### -1 because last touple is out test data\n",
    "    line = data[index].split(\" \")\n",
    "    obsNo = ''.join(line[0])\n",
    "    outlook = line[1]\n",
    "    temp = line[2]    ### Change values as per given question\n",
    "    humidity = line[3]\n",
    "    wind = line[4]\n",
    "    playTennis = line[5]\n",
    "    \n",
    "    \n",
    "    tempOb = OBSERVATIONS(obsNo,outlook,temp,humidity,wind,playTennis) ### Change calling parameters\n",
    "    listOfObs.append(tempOb)\n",
    "    index=index+1\n"
   ]
  },
  {
   "cell_type": "code",
   "execution_count": null,
   "metadata": {},
   "outputs": [],
   "source": [
    "## FINDING COUNT OF OUTPUT (Y)\n",
    "\n",
    "count_OP = {}\n",
    "\n",
    "for obsn in listOfObs:\n",
    "        key = str(obsn.PLAYTENNIS) ### Change\n",
    "        \n",
    "        if key in count_OP:\n",
    "            count_OP[key] = count_OP[key] +1;\n",
    "            \n",
    "        else:\n",
    "            count_OP[key] = 1;\n",
    "        \n",
    "            \n",
    "total= No_of_Ob\n",
    "        \n",
    "print(\"TOTAL COUNT OF Classifications : \\n\")\n",
    "for x,y in count_OP.items():\n",
    "    print(x,y,sep=' : ')"
   ]
  },
  {
   "cell_type": "code",
   "execution_count": null,
   "metadata": {},
   "outputs": [],
   "source": [
    "### FINDING PROBABILITY OF OUTPUT COLUMN P(N) = No(N)/No(TOTAL)\n",
    "prob_OP = {}\n",
    "\n",
    "for key in count_OP.keys():\n",
    "    prob_OP[key] = count_OP[key]/total\n",
    "\n",
    "print(\"PROBABILITY OF OUTPUT FIELD : \\n\")\n",
    "for x,y in prob_OP.items():\n",
    "    print(x,y,sep=' : ')"
   ]
  },
  {
   "cell_type": "code",
   "execution_count": null,
   "metadata": {},
   "outputs": [],
   "source": [
    "### FINDING THE CONDITIONAL PROBABILITIES of Rest of Attributes\n",
    "\n",
    "listOfProbabilities = []\n",
    "\n",
    "for title in listOfTitles:\n",
    "    \n",
    "    tempMap = {}\n",
    "    \n",
    "    for obsn in listOfObs:\n",
    "        value = getattr(obsn,title)\n",
    "        opvalue = getattr(obsn,'PLAYTENNIS')   ### Change as per given question\n",
    "        \n",
    "        key = str(value)+\"|\"+str(opvalue)  ### Change as per given question\n",
    "        \n",
    "        if key in tempMap:\n",
    "            tempMap[key] = tempMap[key]+ (1/count_OP[str(opvalue)])\n",
    "        else:\n",
    "            tempMap[key] = 1/count_OP[str(opvalue)]\n",
    "            \n",
    "    listOfProbabilities.append(tempMap);\n",
    "\n",
    "listOfProbabilities.append(prob_OP)"
   ]
  },
  {
   "cell_type": "code",
   "execution_count": null,
   "metadata": {},
   "outputs": [],
   "source": [
    "print(\"Conditional Probabilities of Attributes : \\n\")\n",
    "for i in listOfProbabilities:\n",
    "    \n",
    "    for x,y in i.items():\n",
    "        print(x,y,sep=\" : \")\n",
    "    print()"
   ]
  },
  {
   "cell_type": "code",
   "execution_count": null,
   "metadata": {},
   "outputs": [],
   "source": [
    "### GETTING TEST DATA\n",
    "\n",
    "line = data[len(data)-1].split(\" \")\n",
    "test = OBSERVATIONS(No_of_Ob+1,line[0],line[1],line[2],line[3])\n",
    "\n",
    "print(\"Test Data : \\n\",line)"
   ]
  },
  {
   "cell_type": "code",
   "execution_count": null,
   "metadata": {},
   "outputs": [],
   "source": [
    "### STEP 1 : Find the Probability of given touple with every class attribute\n",
    "\n",
    "tempMap = {}\n",
    "\n",
    "for x in count_OP.keys():\n",
    "    \n",
    "    temp=1\n",
    "    \n",
    "    for y,z in zip(listOfTitles,listOfProbabilities):\n",
    "        \n",
    "        key = getattr(test,str(y))+\"|\"+str(x)    ### Change as per question\n",
    "        ###print(key)\n",
    "        if key in z:\n",
    "            ###print(\"inside if\")\n",
    "            temp = temp * z[key]\n",
    "        else:\n",
    "            ###print(\"inside else\")\n",
    "            temp = temp*0\n",
    "    \n",
    "    tempMap[x] = temp\n",
    "    \n",
    "    \n",
    "print(\"Probability of T = { test_dat} with YES and NO \\n\\n\")    \n",
    "for x,y in tempMap.items():\n",
    "    print(x,y)\n",
    "        \n",
    "        \n",
    "### ALL respective probabilites are in tempMap"
   ]
  },
  {
   "cell_type": "code",
   "execution_count": null,
   "metadata": {},
   "outputs": [],
   "source": [
    "### NOW WE CALCULATE LIKELIHOOD for YES and NO\n",
    "### WE REPLACE VALUES IN tempMap with value(tempMap)*P(either YES OR NO)\n",
    "\n",
    "for x in tempMap:\n",
    "    tempMap[x] = tempMap[x]*prob_OP[x]\n",
    "\n",
    "print(\"Likelihood for Yes and No : \\n\")\n",
    "for x,y in tempMap.items():\n",
    "    print(x,y)"
   ]
  },
  {
   "cell_type": "code",
   "execution_count": null,
   "metadata": {},
   "outputs": [],
   "source": [
    "### NOW we calculate ESTIMATED VALUE i.e. P(T)\n",
    "\n",
    "estVal = 0\n",
    "for x in tempMap:\n",
    "    estVal = tempMap[x]+estVal\n",
    "    \n",
    "print(\"Estimated value P(T) = \\n \",estVal)"
   ]
  },
  {
   "cell_type": "code",
   "execution_count": null,
   "metadata": {},
   "outputs": [],
   "source": [
    "### Calculating actual probability\n",
    "finalProb = {}\n",
    "\n",
    "max = float('-inf')\n",
    "ans = ''\n",
    "for x in tempMap:\n",
    "    finalProb[x] = tempMap[x]/estVal\n",
    "    ###print(finalProb[x],max)\n",
    "    if finalProb[x] > max:    ### Comapring for the highest probability and marking the output in ans.\n",
    "        max = finalProb[x]\n",
    "        ans = x\n",
    "        \n",
    "print(\"PLAY TENNIS = \"+str(ans))\n",
    "    "
   ]
  },
  {
   "cell_type": "code",
   "execution_count": null,
   "metadata": {},
   "outputs": [],
   "source": []
  }
 ],
 "metadata": {
  "kernelspec": {
   "display_name": "Python 3",
   "language": "python",
   "name": "python3"
  },
  "language_info": {
   "codemirror_mode": {
    "name": "ipython",
    "version": 3
   },
   "file_extension": ".py",
   "mimetype": "text/x-python",
   "name": "python",
   "nbconvert_exporter": "python",
   "pygments_lexer": "ipython3",
   "version": "3.6.4"
  }
 },
 "nbformat": 4,
 "nbformat_minor": 2
}
